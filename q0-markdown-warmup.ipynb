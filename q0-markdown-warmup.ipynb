{
 "cells": [
  {
   "cell_type": "markdown",
   "id": "33f7dc51",
   "metadata": {},
   "source": [
    "---"
   ]
  },
  {
   "cell_type": "markdown",
   "id": "1d6820d0",
   "metadata": {},
   "source": [
    "This is _question 0_ for [problem set 1](https://jbhender.github.io/Stats507/F21/ps/ps1.html) of [Stats 507](https://jbhender.github.io/Stats507/F21/)"
   ]
  },
  {
   "cell_type": "markdown",
   "id": "23654cb1",
   "metadata": {},
   "source": [
    "> ### Question 0 is about Markdown"
   ]
  },
  {
   "cell_type": "markdown",
   "id": "45310725",
   "metadata": {},
   "source": [
    "The next question is about the **Fibonnaci sequence**, ${F_{n}=F_{n−2}+F_{n−1}}$. In part *a* we will define a Python function `fib_rec()`."
   ]
  },
  {
   "cell_type": "markdown",
   "id": "18912723",
   "metadata": {},
   "source": [
    "Below is a ..."
   ]
  },
  {
   "cell_type": "markdown",
   "id": "87662850",
   "metadata": {},
   "source": [
    "### Level 3 Header"
   ]
  },
  {
   "cell_type": "markdown",
   "id": "381b287f",
   "metadata": {},
   "source": [
    "Next, we can make a bulleted list:\n",
    " - Item 1\n",
    "   - detail 1\n",
    "   - detail 2\n",
    " - Item 2"
   ]
  },
  {
   "cell_type": "markdown",
   "id": "e4ade94f",
   "metadata": {},
   "source": [
    "Finally, we can make an enumerated list:\n",
    "1. Item 1\n",
    "1. Item 2\n",
    "1. Item 3"
   ]
  },
  {
   "cell_type": "markdown",
   "id": "40f4b1c1",
   "metadata": {
    "lines_to_next_cell": 2
   },
   "source": [
    "---"
   ]
  },
  {
   "cell_type": "code",
   "execution_count": null,
   "id": "19bb7415",
   "metadata": {
    "lines_to_next_cell": 2
   },
   "outputs": [],
   "source": [
    "```\n",
    "# -*- coding: utf-8 -*-\n",
    "# ---"
   ]
  },
  {
   "cell_type": "markdown",
   "id": "966c0be9",
   "metadata": {},
   "source": [
    "> ### Question 0 is about Markdown"
   ]
  },
  {
   "cell_type": "markdown",
   "id": "57ecc654",
   "metadata": {},
   "source": [
    "The next question is about the **Fibonnaci sequence**, ${F_{n}=F_{n−2}+F_{n−1}}$. In part *a* we will define a Python function `fib_rec()`."
   ]
  },
  {
   "cell_type": "markdown",
   "id": "57c0664d",
   "metadata": {},
   "source": [
    "Below is a ..."
   ]
  },
  {
   "cell_type": "markdown",
   "id": "bd7411ef",
   "metadata": {},
   "source": [
    "### Level 3 Header"
   ]
  },
  {
   "cell_type": "markdown",
   "id": "4778c30c",
   "metadata": {},
   "source": [
    "Next, we can make a bulleted list:\n",
    " - Item 1\n",
    "   - detail 1\n",
    "   - detail 2\n",
    " - Item 2"
   ]
  },
  {
   "cell_type": "markdown",
   "id": "ce4b1079",
   "metadata": {},
   "source": [
    "Finally, we can make an enumerated list:\n",
    "1. Item 1\n",
    "1. Item 2\n",
    "1. Item 3"
   ]
  },
  {
   "cell_type": "code",
   "execution_count": null,
   "id": "8a7b530b",
   "metadata": {},
   "outputs": [],
   "source": [
    "# ---\n",
    "```"
   ]
  }
 ],
 "metadata": {
  "jupytext": {
   "cell_metadata_filter": "-all",
   "encoding": "# -*- coding: utf-8 -*-",
   "main_language": "python",
   "notebook_metadata_filter": "-all"
  }
 },
 "nbformat": 4,
 "nbformat_minor": 5
}
