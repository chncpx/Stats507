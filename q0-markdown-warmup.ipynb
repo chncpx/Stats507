{
 "cells": [
  {
   "cell_type": "markdown",
   "id": "1d0ce215",
   "metadata": {},
   "source": [
    "---"
   ]
  },
  {
   "cell_type": "markdown",
   "id": "f4c505e3",
   "metadata": {},
   "source": [
    "This is _question 0_ for [problem set 1](https://jbhender.github.io/Stats507/F21/ps/ps1.html) of [Stats 507](https://jbhender.github.io/Stats507/F21/)"
   ]
  },
  {
   "cell_type": "markdown",
   "id": "8717f502",
   "metadata": {},
   "source": [
    "> ### Question 0 is about Markdown"
   ]
  },
  {
   "cell_type": "markdown",
   "id": "f4f2c817",
   "metadata": {},
   "source": [
    "The next question is about the **Fibonnaci sequence**, ${F_{n}=F_{n−2}+F_{n−1}}$. In part *a* we will define a Python function `fib_rec()`."
   ]
  },
  {
   "cell_type": "markdown",
   "id": "28f6a27f",
   "metadata": {},
   "source": [
    "Below is a ..."
   ]
  },
  {
   "cell_type": "markdown",
   "id": "bcbdfbdd",
   "metadata": {},
   "source": [
    "### Level 3 Header"
   ]
  },
  {
   "cell_type": "markdown",
   "id": "0ae76641",
   "metadata": {},
   "source": [
    "Next, we can make a bulleted list:\n",
    " - Item 1\n",
    "   - detail 1\n",
    "   - detail 2\n",
    " - Item 2"
   ]
  },
  {
   "cell_type": "markdown",
   "id": "658b878d",
   "metadata": {},
   "source": [
    "Finally, we can make an enumerated list:\n",
    "1. Item 1\n",
    "1. Item 2\n",
    "1. Item 3"
   ]
  },
  {
   "cell_type": "markdown",
   "id": "8c08c56b",
   "metadata": {},
   "source": [
    "---"
   ]
  },
  {
   "cell_type": "markdown",
   "id": "cb57b0eb",
   "metadata": {},
   "source": [
    "```\n",
    "# This is _question 0_ for [problem set 1](https://jbhender.github.io/Stats507/F21/ps/ps1.html) of [Stats 507](https://jbhender.github.io/Stats507/F21/)\n",
    "\n",
    "# > ### Question 0 is about Markdown\n",
    "\n",
    "# The next question is about the **Fibonnaci sequence**, ${F_{n}=F_{n−2}+F_{n−1}}$. In part *a* we will define a Python function `fib_rec()`.\n",
    "\n",
    "# Below is a ...\n",
    "\n",
    "# ### Level 3 Header\n",
    "\n",
    "# Next, we can make a bulleted list:\n",
    "#  - Item 1\n",
    "#    - detail 1\n",
    "#    - detail 2\n",
    "#  - Item 2\n",
    "\n",
    "# Finally, we can make an enumerated list:\n",
    "# 1. Item 1\n",
    "# 1. Item 2\n",
    "# 1. Item 3\n",
    "\n",
    "# ---\n",
    "```"
   ]
  },
  {
   "cell_type": "code",
   "execution_count": null,
   "id": "30616bc7",
   "metadata": {},
   "outputs": [],
   "source": []
  }
 ],
 "metadata": {
  "jupytext": {
   "cell_metadata_filter": "-all",
   "formats": "ipynb,auto:light",
   "notebook_metadata_filter": "-all"
  },
  "kernelspec": {
   "display_name": "Python 3 (ipykernel)",
   "language": "python",
   "name": "python3"
  },
  "language_info": {
   "codemirror_mode": {
    "name": "ipython",
    "version": 3
   },
   "file_extension": ".py",
   "mimetype": "text/x-python",
   "name": "python",
   "nbconvert_exporter": "python",
   "pygments_lexer": "ipython3",
   "version": "3.9.6"
  }
 },
 "nbformat": 4,
 "nbformat_minor": 5
}
